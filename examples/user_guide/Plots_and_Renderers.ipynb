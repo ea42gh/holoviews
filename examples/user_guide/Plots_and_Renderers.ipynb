{
 "cells": [
  {
   "cell_type": "code",
   "execution_count": 1,
   "metadata": {},
   "outputs": [],
   "source": [
    "import holoviews as hv\n",
    "import numpy as np"
   ]
  },
  {
   "cell_type": "markdown",
   "metadata": {},
   "source": [
    "HoloViews ordinarily hides the plotting machinery from the user. This allows for very quick iteration over different visualizations to explore a dataset, however it is often important to customize the precise details of a plot. HoloViews makes it very easy to customize existing plots, or even create completely novel plots. This manual will provide a general overview of the plotting system.\n",
    "\n",
    "The separation of the data from the precise details of the visualization is one of the core principles of the HoloViews. [``Elements``](http://holoviews.org/reference/index.html#elements) provide thin wrappers around chunks of actual data, while [containers](http://holoviews.org/reference/index.html#containers) allow composing these Elements into overlays, layouts, grids and animations/widgets. Each Element or container type has a corresponding plotting class, which renders a visual representation of the data for a particular backend. While the precise details of the implementation differ between backends to accommodate the vastly different APIs  plotting backends provide, many of the high-level details are shared across backends.\n",
    "\n",
    "# The Store object\n",
    "\n",
    "The association between an Element or container and the backend specific plotting class is held on the global ``Store`` object. The ``Store`` object holds a ``registry`` of plot objects for each backend. We can view the registry for each backend by accessing ``Store.registry`` directly:"
   ]
  },
  {
   "cell_type": "code",
   "execution_count": 3,
   "metadata": {},
   "outputs": [
    {
     "data": {
      "text/plain": [
       "[(holoviews.element.chart.Curve, holoviews.plotting.mpl.chart.CurvePlot),\n",
       " (holoviews.element.chart.Scatter, holoviews.plotting.mpl.chart.PointPlot),\n",
       " (holoviews.element.chart.Bars, holoviews.plotting.mpl.chart.BarPlot),\n",
       " (holoviews.element.chart.Histogram,\n",
       "  holoviews.plotting.mpl.chart.HistogramPlot),\n",
       " (holoviews.element.chart.Points, holoviews.plotting.mpl.chart.PointPlot)]"
      ]
     },
     "execution_count": 3,
     "metadata": {},
     "output_type": "execute_result"
    }
   ],
   "source": [
    "import holoviews.plotting.mpl\n",
    "list(hv.Store.registry['matplotlib'].items())[0:5]"
   ]
  },
  {
   "cell_type": "markdown",
   "metadata": {},
   "source": [
    "The Store object provides a global registry not only for the plots themselves but also creates an entry in the OptionsTree for that particular backend. This allows options for that backend to be validated and enables setting plot, style and normalization options via the [Options](Options.ipynb) system. We can view the ``OptionsTree`` object by requesting it from the store. We'll make a copy with just the first few entries so we can view the structure of the tree:"
   ]
  },
  {
   "cell_type": "code",
   "execution_count": 4,
   "metadata": {},
   "outputs": [
    {
     "data": {
      "text/plain": [
       "OptionTree(groups=dict_keys(['plot', 'style', 'norm']),\n",
       "   plot={'Points' : dict(show_frame=True)},\n",
       "\n",
       "   style={\n",
       "            'Bars      ' : dict(color=Cycle(values=['#30a2da', '#fc4f30', '#e5ae38', '#6d904f', '#8b8b8b']), ec='k'),\n",
       "            'BoxWhisker' : dict(boxprops={'color': 'k', 'linewidth': 1.5}, whiskerprops={'color': 'k', 'linewidth': 1.5}),\n",
       "            'Curve     ' : dict(color=Cycle(values=['#30a2da', '#fc4f30', '#e5ae38', '#6d904f', '#8b8b8b']), linewidth=2),\n",
       "            'ErrorBars ' : dict(ecolor='k'),\n",
       "            'Histogram ' : dict(ec='k', facecolor=Cycle(values=['#30a2da', '#fc4f30', '#e5ae38', '#6d904f', '#8b8b8b'])),\n",
       "            'Points    ' : dict(cmap='fire', color=Cycle(values=['#30a2da', '#fc4f30', '#e5ae38', '#6d904f', '#8b8b8b']), marker='o'),\n",
       "            'Scatter   ' : dict(cmap='fire', color=Cycle(values=['#30a2da', '#fc4f30', '#e5ae38', '#6d904f', '#8b8b8b']), marker='o'),\n",
       "            'Spikes    ' : dict(cmap='fire', color='black'),\n",
       "            'Spread    ' : dict(alpha=0.6, edgecolor='k', facecolor=Cycle(values=['#30a2da', '#fc4f30', '#e5ae38', '#6d904f', '#8b8b8b']), linewidth=0.5)}\n",
       ")"
      ]
     },
     "execution_count": 4,
     "metadata": {},
     "output_type": "execute_result"
    }
   ],
   "source": [
    "opts = hv.Store.options(backend='matplotlib')\n",
    "hv.core.options.OptionTree(opts.items()[0:10], groups=['plot', 'style', 'norm'])"
   ]
  },
  {
   "cell_type": "markdown",
   "metadata": {},
   "source": [
    "# Renderers\n",
    "\n",
    "HoloViews provides a general ``Renderer`` baseclass, which defines a general interface to render the output from different backends to a number of standard output formats such as ``png``, ``html`` or ``svg``. The ``__call__`` method on the Renderer automatically looks up and instantiates the registered plotting classes for an object it is passed and then returns the output in the requested format. To make this a bit clearer we'll break this down step by step. First we'll get a handle on the ``MPLRenderer`` and create an object to render.\n",
    "\n",
    "Renderers aren't registered with the Store until the corresponding backends have been imported. Loading the notebook extension with ``hv.notebook_extension('matplotlib')`` is one way of loading a backend and registering a renderer. Another is to simply import the corresponding plotting module as we did above."
   ]
  },
  {
   "cell_type": "code",
   "execution_count": 7,
   "metadata": {},
   "outputs": [
    {
     "data": {
      "text/plain": [
       "OrderedDict([('matplotlib',\n",
       "              MPLRenderer(backend='matplotlib', css={}, dpi=72, fig='auto', fps=20, holomap='auto', info_fn=<function Exporter.<lambda> at 0x7fa48fcc3b70>, interactive=False, key_fn=None, mode='default', name='MPLRenderer00081', post_render_hooks={'svg': [], 'png': []}, size=100, widget_mode='embed')),\n",
       "             ('bokeh',\n",
       "              BokehRenderer(backend='bokeh', css={}, dpi=None, fig='auto', fps=20, holomap='auto', info_fn=<function Exporter.<lambda> at 0x7fa48fcc3b70>, key_fn=None, mode='default', name='BokehRenderer01101', post_render_hooks={'svg': [], 'png': []}, size=100, webgl=False, widget_mode='embed'))])"
      ]
     },
     "execution_count": 7,
     "metadata": {},
     "output_type": "execute_result"
    }
   ],
   "source": [
    "hv.Store.renderers"
   ]
  },
  {
   "cell_type": "markdown",
   "metadata": {},
   "source": [
    "This is one way to access a Renderer, another is to instantiate a Renderer instance directly, allowing you to override some of the default plot options."
   ]
  },
  {
   "cell_type": "code",
   "execution_count": 9,
   "metadata": {},
   "outputs": [],
   "source": [
    "from holoviews.plotting.mpl import MPLRenderer\n",
    "renderer = MPLRenderer.instance(dpi=120)"
   ]
  },
  {
   "cell_type": "markdown",
   "metadata": {},
   "source": [
    "The recommended way to get a handle on a renderer is to use the ``hv.renderer`` function which will also handle imports for you:"
   ]
  },
  {
   "cell_type": "code",
   "execution_count": 8,
   "metadata": {},
   "outputs": [
    {
     "data": {
      "text/plain": [
       "MPLRenderer(backend='matplotlib', css={}, dpi=72, fig='auto', fps=20, holomap='auto', info_fn=<function Exporter.<lambda> at 0x7fa48fcc3b70>, interactive=False, key_fn=None, mode='default', name='MPLRenderer00081', post_render_hooks={'svg': [], 'png': []}, size=100, widget_mode='embed')"
      ]
     },
     "execution_count": 8,
     "metadata": {},
     "output_type": "execute_result"
    }
   ],
   "source": [
    "hv.renderer('matplotlib')"
   ]
  },
  {
   "cell_type": "markdown",
   "metadata": {},
   "source": [
    "# Working with a Renderer\n",
    "\n",
    "A ``Renderer`` in HoloViews is responsible for instantiating a HoloViews plotting class. It does this by looking up the plotting class in the ``Store.registry``:"
   ]
  },
  {
   "cell_type": "code",
   "execution_count": 10,
   "metadata": {},
   "outputs": [
    {
     "data": {
      "text/plain": [
       "holoviews.plotting.mpl.chart.CurvePlot"
      ]
     },
     "execution_count": 10,
     "metadata": {},
     "output_type": "execute_result"
    }
   ],
   "source": [
    "hv.Store.registry['matplotlib'][hv.Curve]"
   ]
  },
  {
   "cell_type": "markdown",
   "metadata": {},
   "source": [
    "If we create a ``Curve`` we can instantiate a plotting class from it using the ``Renderer.get_plot`` method:"
   ]
  },
  {
   "cell_type": "code",
   "execution_count": 11,
   "metadata": {},
   "outputs": [
    {
     "data": {
      "text/html": [
       "<img src='data:image/png;base64,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' style='max-width:100%; margin: auto; display: block; '/>"
      ],
      "text/plain": [
       "CurvePlot(apply_extents=True, apply_ranges=True, apply_ticks=True, aspect='square', autotick=False, bgcolor=None, fig_alpha=1.0, fig_bounds=(0.15, 0.15, 0.85, 0.85), fig_inches=4.0, fig_latex=False, fig_rcparams={}, fig_size=100.0, final_hooks=[], finalize_hooks=[], fontsize=None, initial_hooks=[], interpolation='linear', invert_axes=False, invert_xaxis=False, invert_yaxis=False, invert_zaxis=False, labelled=['x', 'y'], logx=False, logy=False, logz=False, name='CurvePlot02091', normalize=True, projection=None, relative_labels=False, show_frame=False, show_grid=False, show_legend=True, show_title=True, sublabel_format=None, sublabel_position=(-0.35, 0.85), sublabel_size=18, title_format='{label} {group}\\n{dimensions}', xaxis='bottom', xrotation=0, xticks=None, yaxis='left', yrotation=0, yticks=None, zaxis=True, zrotation=0, zticks=None)"
      ]
     },
     "execution_count": 11,
     "metadata": {},
     "output_type": "execute_result"
    }
   ],
   "source": [
    "curve = hv.Curve(range(10))\n",
    "curve_plot = renderer.get_plot(curve)\n",
    "curve_plot"
   ]
  },
  {
   "cell_type": "markdown",
   "metadata": {},
   "source": [
    "We will revisit how to work with ``Plot`` instances later. For now all we need to know is that they are responsible for translating the HoloViews object (like the ``Curve``) into a backend specific plotting object, accessible on ``Plot.state``:"
   ]
  },
  {
   "cell_type": "code",
   "execution_count": null,
   "metadata": {},
   "outputs": [],
   "source": [
    "print(curve_plot.state)\n",
    "curve_plot.state"
   ]
  },
  {
   "cell_type": "markdown",
   "metadata": {},
   "source": [
    "In case of the matplotlib backend this is a ``Figure`` object. However the ``Renderer`` ignores the specific representation of the plot, instead providing a unified interface to translating it into a representation that can displayed, i.e. either an image format or an HTML representation.\n",
    "\n",
    "In this way we can convert the curve directly to its ``png`` representation by calling the ``Renderer`` with the object and the format:"
   ]
  },
  {
   "cell_type": "code",
   "execution_count": null,
   "metadata": {},
   "outputs": [],
   "source": [
    "from IPython.display import display_png\n",
    "png, info = renderer(curve, fmt='png')\n",
    "print(info)\n",
    "display_png(png, raw=True)"
   ]
  },
  {
   "cell_type": "markdown",
   "metadata": {},
   "source": [
    "<div class=\"alert alert-success\">\n",
    "Tip: To find more information about any HoloViews object use ``hv.help`` to print a detailed docstring.\n",
    "</div>\n",
    "\n",
    "The valid figure display formats can be seen in the docstring of the Renderer or directly on the parameter:"
   ]
  },
  {
   "cell_type": "code",
   "execution_count": null,
   "metadata": {},
   "outputs": [],
   "source": [
    "renderer.params('fig').objects"
   ]
  },
  {
   "cell_type": "markdown",
   "metadata": {},
   "source": [
    "In this way we can easily render the plot in different formats:"
   ]
  },
  {
   "cell_type": "code",
   "execution_count": null,
   "metadata": {},
   "outputs": [],
   "source": [
    "from IPython.display import display_svg\n",
    "svg, info = renderer(curve, fmt='svg')\n",
    "print(info)\n",
    "display_svg(svg, raw=True)"
   ]
  },
  {
   "cell_type": "markdown",
   "metadata": {},
   "source": [
    "We could save these byte string representations ourselves but the ``Renderer`` provides a convenient ``save`` method to do so. Simply supply the object the filename and the format, which doubles as the file extension:"
   ]
  },
  {
   "cell_type": "code",
   "execution_count": null,
   "metadata": {},
   "outputs": [],
   "source": [
    "renderer.save(curve, '/tmp/test', fmt='png')"
   ]
  },
  {
   "cell_type": "markdown",
   "metadata": {},
   "source": [
    "Another convenient way to render the object is to wrap it in HTML, which we can do with the ``html`` method:"
   ]
  },
  {
   "cell_type": "code",
   "execution_count": 14,
   "metadata": {},
   "outputs": [
    {
     "data": {
      "text/html": [
       "<img src='data:image/png;base64,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' style='max-width:100%; margin: auto; display: block; '/>"
      ]
     },
     "metadata": {},
     "output_type": "display_data"
    }
   ],
   "source": [
    "from IPython.display import display_html\n",
    "html = renderer.html(curve)\n",
    "display_html(html, raw=True)"
   ]
  },
  {
   "cell_type": "markdown",
   "metadata": {},
   "source": [
    "Rendering plots containing ``HoloMap`` and ``DynamicMap`` objects will automatically generate a widget class instance, which you can get a handle on with the ``get_widget`` method:"
   ]
  },
  {
   "cell_type": "code",
   "execution_count": 12,
   "metadata": {},
   "outputs": [
    {
     "data": {
      "text/plain": [
       "MPLSelectionWidget(CDN={'underscore': 'https://cdnjs.cloudflare.com/ajax/libs/underscore.js/1.8.3/underscore-min.js', 'jQueryUI': 'https://code.jquery.com/ui/1.10.4/jquery-ui.min.js'}, base_template='jsslider.jinja', basejs='widgets.js', css='jsslider.css', display_options={}, embed=True, export_json=False, extensionjs='mplwidgets.js', json_load_path=None, json_save_path='./json_figures', name='MPLSelectionWidget02122', template='jsslider.jinja')"
      ]
     },
     "execution_count": 12,
     "metadata": {},
     "output_type": "execute_result"
    }
   ],
   "source": [
    "holomap = hv.HoloMap({i: hv.Image(np.random.rand(10, 10)) for i in range(3)})\n",
    "widget = renderer.get_widget(holomap, 'widgets')\n",
    "widget"
   ]
  },
  {
   "cell_type": "markdown",
   "metadata": {},
   "source": [
    "However most of the time it is more convenient to let the Renderer export the widget HTML, again via a convenient method, which will export a HTML document with all the required JS and CSS dependencies:"
   ]
  },
  {
   "cell_type": "code",
   "execution_count": 15,
   "metadata": {},
   "outputs": [
    {
     "data": {
      "text/html": [
       "\n",
       "<html>\n",
       "  <head>\n",
       "    \n",
       "<link rel=\"stylesheet\" href=\"https://maxcdn.bootstrapcdn.com/bootstrap/3.3.6/css/bootstrap.min.css\">\n",
       "<link rel=\"stylesheet\" href=\"https://code.jquery.com/ui/1.10.4/themes/smoothness/jquery-ui.css\">\n",
       "<style>div.bk-hbox {\n",
       "    display: flex;\n",
       "    justify-content: center;\n",
       "}\n",
       "\n",
       "div.bk-hbox div.bk-plot {\n",
       "    padding: 8px;\n",
       "}\n",
       "\n",
       "div.bk-hbox div.bk-data-table {\n",
       "    padding: 20px;\n",
       "}\n",
       "\n",
       "div.hololayout {\n",
       "    display: flex;\n",
       "    align-items: center;\n",
       "    margin: 0;\n",
       "}\n",
       "\n",
       "div.holoframe {\n",
       "\twidth: 75%;\n",
       "}\n",
       "\n",
       "div.holowell {\n",
       "    display: flex;\n",
       "    align-items: center;\n",
       "    margin: 0;\n",
       "}\n",
       "\n",
       "form.holoform {\n",
       "    background-color: #fafafa;\n",
       "    border-radius: 5px;\n",
       "    overflow: hidden;\n",
       "\tpadding-left: 0.8em;\n",
       "    padding-right: 0.8em;\n",
       "    padding-top: 0.4em;\n",
       "    padding-bottom: 0.4em;\n",
       "}\n",
       "\n",
       "div.holowidgets {\n",
       "    padding-right: 0;\n",
       "\twidth: 25%;\n",
       "}\n",
       "\n",
       "div.holoslider {\n",
       "    min-height: 0 !important;\n",
       "    height: 0.8em;\n",
       "    width: 60%;\n",
       "}\n",
       "\n",
       "div.holoformgroup {\n",
       "    padding-top: 0.5em;\n",
       "    margin-bottom: 0.5em;\n",
       "}\n",
       "\n",
       "div.hologroup {\n",
       "    padding-left: 0;\n",
       "    padding-right: 0.8em;\n",
       "    width: 50%;\n",
       "}\n",
       "\n",
       ".holoselect {\n",
       "    width: 92%;\n",
       "    margin-left: 0;\n",
       "    margin-right: 0;\n",
       "}\n",
       "\n",
       ".holotext {\n",
       "    width: 100%;\n",
       "    padding-left:  0.5em;\n",
       "    padding-right: 0;\n",
       "}\n",
       "\n",
       ".holowidgets .ui-resizable-se {\n",
       "\tvisibility: hidden\n",
       "}\n",
       "\n",
       ".holoframe > .ui-resizable-se {\n",
       "\tvisibility: hidden\n",
       "}\n",
       "\n",
       ".holowidgets .ui-resizable-s {\n",
       "\tvisibility: hidden\n",
       "}\n",
       "</style>\n",
       "    \n",
       "<script src=\"https://code.jquery.com/jquery-2.1.4.min.js\" type=\"text/javascript\"></script>\n",
       "<script src=\"https://code.jquery.com/ui/1.10.4/jquery-ui.min.js\" type=\"text/javascript\"></script>\n",
       "<script src=\"https://cdnjs.cloudflare.com/ajax/libs/require.js/2.1.20/require.min.js\" type=\"text/javascript\"></script>\n",
       "<script src=\"https://cdnjs.cloudflare.com/ajax/libs/underscore.js/1.8.3/underscore-min.js\" type=\"text/javascript\"></script>\n",
       "<script type=\"text/javascript\">function HoloViewsWidget(){\n",
       "}\n",
       "\n",
       "HoloViewsWidget.comms = {};\n",
       "HoloViewsWidget.comm_state = {};\n",
       "\n",
       "HoloViewsWidget.prototype.init_slider = function(init_val){\n",
       "  if(this.load_json) {\n",
       "    this.from_json()\n",
       "  } else {\n",
       "    this.update_cache();\n",
       "  }\n",
       "}\n",
       "\n",
       "HoloViewsWidget.prototype.populate_cache = function(idx){\n",
       "  this.cache[idx].html(this.frames[idx]);\n",
       "  if (this.embed) {\n",
       "    delete this.frames[idx];\n",
       "  }\n",
       "}\n",
       "\n",
       "HoloViewsWidget.prototype.process_error = function(msg){\n",
       "\n",
       "}\n",
       "\n",
       "HoloViewsWidget.prototype.from_json = function() {\n",
       "  var data_url = this.json_path + this.id + '.json';\n",
       "  $.getJSON(data_url, $.proxy(function(json_data) {\n",
       "    this.frames = json_data;\n",
       "    this.update_cache();\n",
       "    this.update(0);\n",
       "  }, this));\n",
       "}\n",
       "\n",
       "HoloViewsWidget.prototype.dynamic_update = function(current){\n",
       "  if (current === undefined) {\n",
       "    return\n",
       "  }\n",
       "  if(this.dynamic) {\n",
       "    current = JSON.stringify(current);\n",
       "  }\n",
       "  function callback(initialized, msg){\n",
       "    /* This callback receives data from Python as a string\n",
       "       in order to parse it correctly quotes are sliced off*/\n",
       "    if (msg.content.ename != undefined) {\n",
       "      this.process_error(msg);\n",
       "    }\n",
       "    if (msg.msg_type != \"execute_result\") {\n",
       "      console.log(\"Warning: HoloViews callback returned unexpected data for key: (\", current, \") with the following content:\", msg.content)\n",
       "    } else {\n",
       "      if (msg.content.data['text/plain'].includes('Complete')) {\n",
       "        if (this.queue.length > 0) {\n",
       "          this.time = Date.now();\n",
       "          this.dynamic_update(this.queue[this.queue.length-1]);\n",
       "          this.queue = [];\n",
       "        } else {\n",
       "          this.wait = false;\n",
       "        }\n",
       "        return\n",
       "      }\n",
       "    }\n",
       "  }\n",
       "  this.current = current;\n",
       "  if ((window.Jupyter !== undefined) && (Jupyter.notebook.kernel != null)) {\n",
       "    var kernel = Jupyter.notebook.kernel;\n",
       "    callbacks = {iopub: {output: $.proxy(callback, this, this.initialized)}};\n",
       "    var cmd = \"holoviews.plotting.widgets.NdWidget.widgets['\" + this.id + \"'].update(\" + current + \")\";\n",
       "    kernel.execute(\"import holoviews;\" + cmd, callbacks, {silent : false});\n",
       "  }\n",
       "}\n",
       "\n",
       "HoloViewsWidget.prototype.update_cache = function(force){\n",
       "  var frame_len = Object.keys(this.frames).length;\n",
       "  for (var i=0; i<frame_len; i++) {\n",
       "    if(!this.load_json || this.dynamic)  {\n",
       "      frame = Object.keys(this.frames)[i];\n",
       "    } else {\n",
       "      frame = i;\n",
       "    }\n",
       "    if(!(frame in this.cache) || force) {\n",
       "      if ((frame in this.cache) && force) { this.cache[frame].remove() }\n",
       "      this.cache[frame] = $('<div />').appendTo(\"#\"+\"_anim_img\"+this.id).hide();\n",
       "      var cache_id = \"_anim_img\"+this.id+\"_\"+frame;\n",
       "      this.cache[frame].attr(\"id\", cache_id);\n",
       "      this.populate_cache(frame);\n",
       "    }\n",
       "  }\n",
       "}\n",
       "\n",
       "HoloViewsWidget.prototype.update = function(current){\n",
       "  if(current in this.cache) {\n",
       "    $.each(this.cache, function(index, value) {\n",
       "      value.hide();\n",
       "    });\n",
       "    this.cache[current].show();\n",
       "    this.wait = false;\n",
       "  }\n",
       "}\n",
       "\n",
       "HoloViewsWidget.prototype.init_comms = function() {\n",
       "  if ((window.Jupyter !== undefined) && (Jupyter.notebook.kernel !== undefined)) {\n",
       "    var widget = this;\n",
       "    comm_manager = Jupyter.notebook.kernel.comm_manager;\n",
       "    comm_manager.register_target(this.id, function (comm) {\n",
       "      comm.on_msg(function (msg) { widget.process_msg(msg) });\n",
       "    });\n",
       "  }\n",
       "}\n",
       "\n",
       "HoloViewsWidget.prototype.process_msg = function(msg) {\n",
       "}\n",
       "\n",
       "function SelectionWidget(frames, id, slider_ids, keyMap, dim_vals, notFound, load_json, mode, cached, json_path, dynamic){\n",
       "  this.frames = frames;\n",
       "  this.id = id;\n",
       "  this.slider_ids = slider_ids;\n",
       "  this.keyMap = keyMap\n",
       "  this.current_frame = 0;\n",
       "  this.current_vals = dim_vals;\n",
       "  this.load_json = load_json;\n",
       "  this.mode = mode;\n",
       "  this.notFound = notFound;\n",
       "  this.cached = cached;\n",
       "  this.dynamic = dynamic;\n",
       "  this.cache = {};\n",
       "  this.json_path = json_path;\n",
       "  this.init_slider(this.current_vals[0]);\n",
       "  this.queue = [];\n",
       "  this.wait = false;\n",
       "  if (!this.cached || this.dynamic) {\n",
       "    this.init_comms()\n",
       "  }\n",
       "}\n",
       "\n",
       "SelectionWidget.prototype = new HoloViewsWidget;\n",
       "\n",
       "\n",
       "SelectionWidget.prototype.get_key = function(current_vals) {\n",
       "  var key = \"(\";\n",
       "  for (var i=0; i<this.slider_ids.length; i++)\n",
       "  {\n",
       "    val = this.current_vals[i];\n",
       "    if (!(typeof val === 'string')) {\n",
       "      if (val % 1 === 0) { val = val.toFixed(1); }\n",
       "      else { val = val.toFixed(10); val = val.slice(0, val.length-1);}\n",
       "    }\n",
       "    key += \"'\" + val + \"'\";\n",
       "    if(i != this.slider_ids.length-1) { key += ', ';}\n",
       "    else if(this.slider_ids.length == 1) { key += ',';}\n",
       "  }\n",
       "  key += \")\";\n",
       "  return this.keyMap[key];\n",
       "}\n",
       "\n",
       "SelectionWidget.prototype.set_frame = function(dim_val, dim_idx){\n",
       "  this.current_vals[dim_idx] = dim_val;\n",
       "  var key = this.current_vals;\n",
       "  if (!this.dynamic) {\n",
       "    key = this.get_key(key)\n",
       "  }\n",
       "  if (this.dynamic || !this.cached) {\n",
       "    if ((this.time !== undefined) && ((this.wait) && ((this.time + 10000) > Date.now()))) {\n",
       "      this.queue.push(key);\n",
       "      return\n",
       "    }\n",
       "    this.queue = [];\n",
       "    this.time = Date.now();\n",
       "    this.current_frame = key;\n",
       "    this.wait = true;\n",
       "    this.dynamic_update(key)\n",
       "  } else if (key !== undefined) {\n",
       "    this.update(key)\n",
       "  }\n",
       "}\n",
       "\n",
       "\n",
       "/* Define the ScrubberWidget class */\n",
       "function ScrubberWidget(frames, num_frames, id, interval, load_json, mode, cached, json_path, dynamic){\n",
       "  this.slider_id = \"_anim_slider\" + id;\n",
       "  this.loop_select_id = \"_anim_loop_select\" + id;\n",
       "  this.id = id;\n",
       "  this.interval = interval;\n",
       "  this.current_frame = 0;\n",
       "  this.direction = 0;\n",
       "  this.dynamic = dynamic;\n",
       "  this.timer = null;\n",
       "  this.load_json = load_json;\n",
       "  this.mode = mode;\n",
       "  this.cached = cached;\n",
       "  this.frames = frames;\n",
       "  this.cache = {};\n",
       "  this.length = num_frames;\n",
       "  this.json_path = json_path;\n",
       "  document.getElementById(this.slider_id).max = this.length - 1;\n",
       "  this.init_slider(0);\n",
       "  this.wait = false;\n",
       "  this.queue = [];\n",
       "  if (!this.cached || this.dynamic) {\n",
       "    this.init_comms()\n",
       "  }\n",
       "}\n",
       "\n",
       "ScrubberWidget.prototype = new HoloViewsWidget;\n",
       "\n",
       "ScrubberWidget.prototype.set_frame = function(frame){\n",
       "  this.current_frame = frame;\n",
       "  widget = document.getElementById(this.slider_id);\n",
       "  if (widget === null) {\n",
       "    this.pause_animation();\n",
       "    return\n",
       "  }\n",
       "  widget.value = this.current_frame;\n",
       "  if(this.cached) {\n",
       "    this.update(frame)\n",
       "  } else {\n",
       "    this.dynamic_update(frame)\n",
       "  }\n",
       "}\n",
       "\n",
       "\n",
       "ScrubberWidget.prototype.get_loop_state = function(){\n",
       "  var button_group = document[this.loop_select_id].state;\n",
       "  for (var i = 0; i < button_group.length; i++) {\n",
       "    var button = button_group[i];\n",
       "    if (button.checked) {\n",
       "      return button.value;\n",
       "    }\n",
       "  }\n",
       "  return undefined;\n",
       "}\n",
       "\n",
       "\n",
       "ScrubberWidget.prototype.next_frame = function() {\n",
       "  this.set_frame(Math.min(this.length - 1, this.current_frame + 1));\n",
       "}\n",
       "\n",
       "ScrubberWidget.prototype.previous_frame = function() {\n",
       "  this.set_frame(Math.max(0, this.current_frame - 1));\n",
       "}\n",
       "\n",
       "ScrubberWidget.prototype.first_frame = function() {\n",
       "  this.set_frame(0);\n",
       "}\n",
       "\n",
       "ScrubberWidget.prototype.last_frame = function() {\n",
       "  this.set_frame(this.length - 1);\n",
       "}\n",
       "\n",
       "ScrubberWidget.prototype.slower = function() {\n",
       "  this.interval /= 0.7;\n",
       "  if(this.direction > 0){this.play_animation();}\n",
       "  else if(this.direction < 0){this.reverse_animation();}\n",
       "}\n",
       "\n",
       "ScrubberWidget.prototype.faster = function() {\n",
       "  this.interval *= 0.7;\n",
       "  if(this.direction > 0){this.play_animation();}\n",
       "  else if(this.direction < 0){this.reverse_animation();}\n",
       "}\n",
       "\n",
       "ScrubberWidget.prototype.anim_step_forward = function() {\n",
       "  if(this.current_frame < this.length - 1){\n",
       "    this.next_frame();\n",
       "  }else{\n",
       "    var loop_state = this.get_loop_state();\n",
       "    if(loop_state == \"loop\"){\n",
       "      this.first_frame();\n",
       "    }else if(loop_state == \"reflect\"){\n",
       "      this.last_frame();\n",
       "      this.reverse_animation();\n",
       "    }else{\n",
       "      this.pause_animation();\n",
       "      this.last_frame();\n",
       "    }\n",
       "  }\n",
       "}\n",
       "\n",
       "ScrubberWidget.prototype.anim_step_reverse = function() {\n",
       "  if(this.current_frame > 0){\n",
       "    this.previous_frame();\n",
       "  } else {\n",
       "    var loop_state = this.get_loop_state();\n",
       "    if(loop_state == \"loop\"){\n",
       "      this.last_frame();\n",
       "    }else if(loop_state == \"reflect\"){\n",
       "      this.first_frame();\n",
       "      this.play_animation();\n",
       "    }else{\n",
       "      this.pause_animation();\n",
       "      this.first_frame();\n",
       "    }\n",
       "  }\n",
       "}\n",
       "\n",
       "ScrubberWidget.prototype.pause_animation = function() {\n",
       "  this.direction = 0;\n",
       "  if (this.timer){\n",
       "    clearInterval(this.timer);\n",
       "    this.timer = null;\n",
       "  }\n",
       "}\n",
       "\n",
       "ScrubberWidget.prototype.play_animation = function() {\n",
       "  this.pause_animation();\n",
       "  this.direction = 1;\n",
       "  var t = this;\n",
       "  if (!this.timer) this.timer = setInterval(function(){t.anim_step_forward();}, this.interval);\n",
       "}\n",
       "\n",
       "ScrubberWidget.prototype.reverse_animation = function() {\n",
       "  this.pause_animation();\n",
       "  this.direction = -1;\n",
       "  var t = this;\n",
       "  if (!this.timer) this.timer = setInterval(function(){t.anim_step_reverse();}, this.interval);\n",
       "}\n",
       "\n",
       "function extend(destination, source) {\n",
       "  for (var k in source) {\n",
       "    if (source.hasOwnProperty(k)) {\n",
       "      destination[k] = source[k];\n",
       "    }\n",
       "  }\n",
       "  return destination;\n",
       "}\n",
       "\n",
       "function update_widget(widget, values) {\n",
       "  if (widget.hasClass(\"ui-slider\")) {\n",
       "    widget.slider('option', {\n",
       "      min: 0,\n",
       "      max: values.length-1,\n",
       "      dim_vals: values,\n",
       "      value: 0,\n",
       "      dim_labels: values\n",
       "\t})\n",
       "    widget.slider('option', 'slide').call(widget, event, {value: 0})\n",
       "  } else {\n",
       "    widget.empty();\n",
       "    for (var i=0; i<values.length; i++){\n",
       "      widget.append($(\"<option>\", {\n",
       "        value: i,\n",
       "        text: values[i]\n",
       "      }))\n",
       "    };\n",
       "    widget.data('values', values);\n",
       "    widget.data('value', 0);\n",
       "    widget.trigger(\"change\");\n",
       "  };\n",
       "}\n",
       "\n",
       "// Define MPL specific subclasses\n",
       "function MPLSelectionWidget() {\n",
       "    SelectionWidget.apply(this, arguments);\n",
       "}\n",
       "\n",
       "function MPLScrubberWidget() {\n",
       "    ScrubberWidget.apply(this, arguments);\n",
       "}\n",
       "\n",
       "// Let them inherit from the baseclasses\n",
       "MPLSelectionWidget.prototype = Object.create(SelectionWidget.prototype);\n",
       "MPLScrubberWidget.prototype = Object.create(ScrubberWidget.prototype);\n",
       "\n",
       "// Define methods to override on widgets\n",
       "var MPLMethods = {\n",
       "    init_slider : function(init_val){\n",
       "        if(this.load_json) {\n",
       "            this.from_json()\n",
       "        } else {\n",
       "            this.update_cache();\n",
       "        }\n",
       "        this.update(0);\n",
       "        if(this.mode == 'nbagg') {\n",
       "            this.set_frame(init_val, 0);\n",
       "        }\n",
       "    },\n",
       "    populate_cache : function(idx){\n",
       "        var cache_id = \"_anim_img\"+this.id+\"_\"+idx;\n",
       "        this.cache[idx].html(this.frames[idx]);\n",
       "        if (this.embed) {\n",
       "            delete this.frames[idx];\n",
       "        }\n",
       "    },\n",
       "    process_msg : function(msg) {\n",
       "        if (!(this.mode == 'nbagg')) {\n",
       "            var data = msg.content.data;\n",
       "            this.frames[this.current] = data;\n",
       "            this.update_cache(true);\n",
       "            this.update(this.current);\n",
       "        }\n",
       "    }\n",
       "}\n",
       "// Extend MPL widgets with backend specific methods\n",
       "extend(MPLSelectionWidget.prototype, MPLMethods);\n",
       "extend(MPLScrubberWidget.prototype, MPLMethods);\n",
       "\n",
       "// Define Bokeh specific subclasses\n",
       "function BokehSelectionWidget() {\n",
       "\tSelectionWidget.apply(this, arguments);\n",
       "}\n",
       "\n",
       "function BokehScrubberWidget() {\n",
       "\tScrubberWidget.apply(this, arguments);\n",
       "}\n",
       "\n",
       "// Let them inherit from the baseclasses\n",
       "BokehSelectionWidget.prototype = Object.create(SelectionWidget.prototype);\n",
       "BokehScrubberWidget.prototype = Object.create(ScrubberWidget.prototype);\n",
       "\n",
       "// Define methods to override on widgets\n",
       "var BokehMethods = {\n",
       "\tupdate_cache : function(){\n",
       "\t\t$.each(this.frames, $.proxy(function(index, frame) {\n",
       "\t\t\tthis.frames[index] = JSON.parse(frame);\n",
       "\t\t}, this));\n",
       "\t},\n",
       "\tupdate : function(current){\n",
       "\t\tif (current === undefined) {\n",
       "\t\t\tvar data = undefined;\n",
       "\t\t} else {\n",
       "\t\t\tvar data = this.frames[current];\n",
       "\t\t}\n",
       "\t\tif (data !== undefined) {\n",
       "\t\t\tvar doc = Bokeh.index[data.root].model.document;\n",
       "\t\t\tdoc.apply_json_patch(data.content);\n",
       "\t\t}\n",
       "\t},\n",
       "\tinit_comms : function() {\n",
       "\t}\n",
       "}\n",
       "\n",
       "// Extend Bokeh widgets with backend specific methods\n",
       "extend(BokehSelectionWidget.prototype, BokehMethods);\n",
       "extend(BokehScrubberWidget.prototype, BokehMethods);\n",
       "</script>\n",
       "  </head>\n",
       "  <body>\n",
       "    <div class=\"hololayout row row-fluid\">\n",
       "  <div class=\"holoframe\" id=\"display_area6b89c7414bef4c92b68dd602e53638e8\">\n",
       "    <div id=\"_anim_img6b89c7414bef4c92b68dd602e53638e8\">\n",
       "      \n",
       "      \n",
       "      \n",
       "    </div>\n",
       "  </div>\n",
       "  <div class=\"holowidgets\" id=\"widget_area6b89c7414bef4c92b68dd602e53638e8\">\n",
       "    <form class=\"holoform well\" id=\"form6b89c7414bef4c92b68dd602e53638e8\">\n",
       "      \n",
       "      \n",
       "      <div class=\"form-group control-group holoformgroup\" style=''>\n",
       "        <label for=\"textInput6b89c7414bef4c92b68dd602e53638e8_Default\">\n",
       "          <strong>Default:</strong>\n",
       "        </label>\n",
       "        <div class=\"holowell row row-fluid\">\n",
       "          <div class=\"hologroup\">\n",
       "            <input type=\"text\" class=\"holotext form-control input-small\"\n",
       "                   id=\"textInput6b89c7414bef4c92b68dd602e53638e8_Default\" value=\"\" readonly>\n",
       "          </div>\n",
       "          <div class=\"holoslider\"\n",
       "               id=\"_anim_widget6b89c7414bef4c92b68dd602e53638e8_Default\"></div>\n",
       "        </div>\n",
       "      </div>\n",
       "\t  <script>\n",
       "\t    function init_slider() {\n",
       "        // Slider JS Block START\n",
       "        function loadcssfile(filename){\n",
       "            var fileref=document.createElement(\"link\")\n",
       "            fileref.setAttribute(\"rel\", \"stylesheet\")\n",
       "            fileref.setAttribute(\"type\", \"text/css\")\n",
       "            fileref.setAttribute(\"href\", filename)\n",
       "            document.getElementsByTagName(\"head\")[0].appendChild(fileref)\n",
       "        }\n",
       "        loadcssfile(\"https://code.jquery.com/ui/1.10.4/themes/smoothness/jquery-ui.css\");\n",
       "        /* Check if jQuery and jQueryUI have been loaded\n",
       "           otherwise load with require.js */\n",
       "        var jQuery = window.jQuery,\n",
       "            // check for old versions of jQuery\n",
       "            oldjQuery = jQuery && !!jQuery.fn.jquery.match(/^1\\.[0-4](\\.|$)/),\n",
       "            jquery_path = '',\n",
       "            paths = {},\n",
       "            noConflict;\n",
       "        var jQueryUI = jQuery.ui;\n",
       "        // check for jQuery\n",
       "        if (!jQuery || oldjQuery) {\n",
       "            // load if it's not available or doesn't meet min standards\n",
       "            paths.jQuery = jQuery;\n",
       "            noConflict = !!oldjQuery;\n",
       "        } else {\n",
       "            // register the current jQuery\n",
       "            define('jquery', [], function() { return jQuery; });\n",
       "        }\n",
       "        if (!jQueryUI) {\n",
       "            paths.jQueryUI = \"https://code.jquery.com/ui/1.10.4/jquery-ui.min\"\n",
       "        } else {\n",
       "            define('jQueryUI', [], function() { return jQuery.ui; });\n",
       "        }\n",
       "        paths.underscore = \"https://cdnjs.cloudflare.com/ajax/libs/underscore.js/1.8.3/underscore-min\";\n",
       "        var jquery_require = {\n",
       "            paths: paths,\n",
       "            shim: {\n",
       "                \"jQueryUI\": {\n",
       "                    exports:\"$\",\n",
       "                    deps: ['jquery']\n",
       "                },\n",
       "                \"underscore\": {\n",
       "                    exports: '_'\n",
       "                }\n",
       "            }\n",
       "        }\n",
       "        require.config(jquery_require);\n",
       "        require([\"jQueryUI\", \"underscore\"], function(jUI, _){\n",
       "            if (noConflict) $.noConflict(true);\n",
       "            var vals = ['0.0', '1.0', '2.0'];\n",
       "            var next_vals = {};\n",
       "            if (false && vals.constructor === Array) {\n",
       "                var min = parseFloat(vals[0]);\n",
       "                var max = parseFloat(vals[vals.length-1]);\n",
       "                var step = 1;\n",
       "                var labels = [min];\n",
       "            } else {\n",
       "                var min = 0;\n",
       "                if (false) {\n",
       "                    var max = Object.keys(vals).length - 1;\n",
       "                } else {\n",
       "                    var max = vals.length - 1;\n",
       "                }\n",
       "                var step = 1;\n",
       "\t\t\t\tvar labels = ['0', '1', '2'];\n",
       "            }\n",
       "\t\t\tfunction adjustFontSize(text) {\n",
       "\t\t\t\tvar width_ratio = (text.parent().width()/8)/text.val().length;\n",
       "\t\t\t\tvar size = Math.min(0.9, Math.max(0.6, width_ratio))+'em';\n",
       "\t\t\t\ttext.css('font-size', size);\n",
       "\t\t\t}\n",
       "            var slider = $('#_anim_widget6b89c7414bef4c92b68dd602e53638e8_Default');\n",
       "\t\t\tslider.slider({\n",
       "                animate: \"fast\",\n",
       "                min: min,\n",
       "                max: max,\n",
       "                step: step,\n",
       "                value: min,\n",
       "                dim_vals: vals,\n",
       "                dim_labels: labels,\n",
       "                next_vals: next_vals,\n",
       "                slide: function(event, ui) {\n",
       "                    var vals = slider.slider(\"option\", \"dim_vals\");\n",
       "                    var next_vals = slider.slider(\"option\", \"next_vals\");\n",
       "                    var labels = slider.slider(\"option\", \"dim_labels\");\n",
       "                    if (false) {\n",
       "\t\t\t\t\t    var dim_val = ui.value;\n",
       "\t\t\t\t\t    if (vals.constructor === Array) {\n",
       "\t\t\t\t\t\t   var label = ui.value;\n",
       "\t\t\t\t\t\t} else {\n",
       "\t\t\t\t\t\t   var label = labels[ui.value];\n",
       "\t\t\t\t\t\t}\n",
       "                    } else {\n",
       "                        var dim_val = vals[ui.value];\n",
       "\t\t\t\t\t\tvar label = labels[ui.value];\n",
       "                    }\n",
       "\t\t\t\t\tvar text = $('#textInput6b89c7414bef4c92b68dd602e53638e8_Default');\n",
       "\t\t\t\t\ttext.val(label);\n",
       "\t\t\t\t\tadjustFontSize(text);\n",
       "                    anim6b89c7414bef4c92b68dd602e53638e8.set_frame(dim_val, 0);\n",
       "                    if (Object.keys(next_vals).length > 0) {\n",
       "                        var new_vals = next_vals[dim_val];\n",
       "                        var next_widget = $('#_anim_widget6b89c7414bef4c92b68dd602e53638e8_');\n",
       "                        update_widget(next_widget, new_vals);\n",
       "                    }\n",
       "                }\n",
       "            });\n",
       "            slider.keypress(function(event) {\n",
       "                if (event.which == 80 || event.which == 112) {\n",
       "                    var start = slider.slider(\"option\", \"value\");\n",
       "                    var stop =  slider.slider(\"option\", \"max\");\n",
       "                    for (var i=start; i<=stop; i++) {\n",
       "                        var delay = i*50;\n",
       "                        $.proxy(function doSetTimeout(i) { setTimeout($.proxy(function() {\n",
       "                            var val = {value:i};\n",
       "                            slider.slider('value',i);\n",
       "                            slider.slider(\"option\", \"slide\")(null, val);\n",
       "                        }, slider), delay);}, slider)(i);\n",
       "                    }\n",
       "                }\n",
       "                if (event.which == 82 || event.which == 114) {\n",
       "                    var start = slider.slider(\"option\", \"value\");\n",
       "                    var stop =  slider.slider(\"option\", \"min\");\n",
       "                    var count = 0;\n",
       "                    for (var i=start; i>=stop; i--) {\n",
       "                        var delay = count*50;\n",
       "                        count = count + 1;\n",
       "                        $.proxy(function doSetTimeout(i) { setTimeout($.proxy(function() {\n",
       "                            var val = {value:i};\n",
       "                            slider.slider('value',i);\n",
       "                            slider.slider(\"option\", \"slide\")(null, val);\n",
       "                        }, slider), delay);}, slider)(i);\n",
       "                    }\n",
       "                }\n",
       "            });\n",
       "\t\t\tvar textInput = $('#textInput6b89c7414bef4c92b68dd602e53638e8_Default')\n",
       "\t\t\ttextInput.val(labels[0]);\n",
       "\t\t\tadjustFontSize(textInput);\n",
       "        });\n",
       "\t\t}\n",
       "        $(document).ready(init_slider)\n",
       "        // Slider JS Block END\n",
       "        </script>\n",
       "        \n",
       "        \n",
       "        </form>\n",
       "    </div>\n",
       "</div>\n",
       "\n",
       "\n",
       "<script language=\"javascript\">\n",
       "/* Instantiate the MPLSelectionWidget class. */\n",
       "/* The IDs given should match those used in the template above. */\n",
       "(function() {\n",
       "\tif (jQuery.ui !== undefined) {\n",
       "\t\t$(\"#display_area6b89c7414bef4c92b68dd602e53638e8\").resizable({\n",
       "\t\t\tresize: function(event, ui) {\n",
       "\t\t\t\t$(\"#widget_area6b89c7414bef4c92b68dd602e53638e8\").width($(this).parent().width()-ui.size.width);\n",
       "\t\t\t}\n",
       "\t\t});\n",
       "\t\t$(\"#widget_area6b89c7414bef4c92b68dd602e53638e8\").resizable();\n",
       "\t}\n",
       "    var widget_ids = new Array(1);\n",
       "    \n",
       "    widget_ids[0] = \"_anim_widget6b89c7414bef4c92b68dd602e53638e8_Default\";\n",
       "    \n",
       "    var frame_data = {\"0\": \"<img src='data:image/png;base64,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' style='max-width:100%; margin: auto; display: block; '/>\", \"1\": \"<img src='data:image/png;base64,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' style='max-width:100%; margin: auto; display: block; '/>\", \"2\": \"<img src='data:image/png;base64,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' style='max-width:100%; margin: auto; display: block; '/>\"};\n",
       "    var dim_vals = ['0.0'];\n",
       "    var keyMap = {\"('0.0',)\": 0, \"('1.0',)\": 1, \"('2.0',)\": 2};\n",
       "    var notFound = \"<h2 style='vertical-align: middle>No frame at selected dimension value.<h2>\";\n",
       "    function create_widget() {\n",
       "        setTimeout(function() {\n",
       "            anim6b89c7414bef4c92b68dd602e53638e8 = new MPLSelectionWidget(frame_data, \"6b89c7414bef4c92b68dd602e53638e8\", widget_ids,\n",
       "\t\t\t\tkeyMap, dim_vals, notFound, false, \"default\",\n",
       "\t\t\t\ttrue, \"./json_figures/\", false);\n",
       "        }, 0);\n",
       "    }\n",
       "    \n",
       "    create_widget();\n",
       "    \n",
       "})();\n",
       "</script>\n",
       "  </body>\n",
       "</html>\n"
      ]
     },
     "metadata": {},
     "output_type": "display_data"
    }
   ],
   "source": [
    "display_html(renderer.static_html(holomap), raw=True)"
   ]
  },
  {
   "cell_type": "markdown",
   "metadata": {},
   "source": [
    "This covers the basics of working with HoloViews renderers. This API is consistent across plotting backends, whether matplotlib, bokeh or plotly.\n",
    "\n",
    "# Plots\n",
    "\n",
    "Above we saw how the Renderer looks up the appropriate plotting class but so far we haven't seen how the plotting actually works. Since HoloViews already nests the data into semantically meaningful components, which define the rough layout of the plots on the page, the plotting classes follow roughly the same hierarchy. To review this hierarchy have a look at the [nesting diagram](./05-Building_Composite_Objects.ipynb#Nesting-hierarchy-) in the Building Composite objects guide.\n",
    "\n",
    "The Layout and GridSpace plotting classes set up the figure and axes appropriately and then instantiate the subplots for all the objects that are contained within. For this purpose we will create a relatively complex object, a ``Layout`` of ``HoloMap``s containing ``Overlay``s containing ``Elements``. We'll instantiate the matching plotting hierarchy and then inspect it."
   ]
  },
  {
   "cell_type": "code",
   "execution_count": null,
   "metadata": {},
   "outputs": [],
   "source": [
    "hmap1 = hv.HoloMap({i: hv.Image(np.random.rand(10, 10)) * hv.Ellipse(0, 0, 0.2*i) for i in range(5)})\n",
    "element = hv.Curve((range(10), np.random.rand(10)))\n",
    "layout = hmap1 + element"
   ]
  },
  {
   "cell_type": "markdown",
   "metadata": {},
   "source": [
    "We can see the hierarchy in the object's repr:"
   ]
  },
  {
   "cell_type": "code",
   "execution_count": null,
   "metadata": {},
   "outputs": [],
   "source": [
    "print( repr(layout) )"
   ]
  },
  {
   "cell_type": "markdown",
   "metadata": {},
   "source": [
    "Now that we've created the object we can again use the ``MPLRenderer`` to instantiate the plot:"
   ]
  },
  {
   "cell_type": "code",
   "execution_count": null,
   "metadata": {},
   "outputs": [],
   "source": [
    "layout_plot = renderer.get_plot(layout)\n",
    "layout_plot"
   ]
  },
  {
   "cell_type": "markdown",
   "metadata": {},
   "source": [
    "During instantiation the LayoutPlot expanded each object and created subplots. We can access them via a row, column based index and thereby view the first plot."
   ]
  },
  {
   "cell_type": "code",
   "execution_count": null,
   "metadata": {},
   "outputs": [],
   "source": [
    "adjoint_plot = layout_plot.subplots[0, 0]\n",
    "adjoint_plot"
   ]
  },
  {
   "cell_type": "markdown",
   "metadata": {},
   "source": [
    "This plotting layer handles plots adjoined to the plot. They are indexed by their position in the AdjointLayout which may include 'top', 'right' and 'main':"
   ]
  },
  {
   "cell_type": "code",
   "execution_count": null,
   "metadata": {},
   "outputs": [],
   "source": [
    "overlay_plot = adjoint_plot.subplots['main']\n",
    "overlay_plot"
   ]
  },
  {
   "cell_type": "markdown",
   "metadata": {},
   "source": [
    "Now we've drilled all the way down to the OverlayPlot level, we see as expected that this contains two further subplots, one for the ``Image`` and one for ``Text`` Element. "
   ]
  },
  {
   "cell_type": "code",
   "execution_count": null,
   "metadata": {},
   "outputs": [],
   "source": [
    "overlay_plot.subplots.keys()"
   ]
  },
  {
   "cell_type": "markdown",
   "metadata": {},
   "source": [
    "Now you might have noticed that the HoloMap seems to have disappeared from the hierarchy. This is because updating a particular plot is handled by the ``ElementPlots`` itself. With that knowledge we can now have a look at the actual plotting API.\n",
    "\n",
    "### Traversing plots"
   ]
  },
  {
   "cell_type": "markdown",
   "metadata": {},
   "source": [
    "When working with such deeply nested plots accessing leafs can be a lot of effort, therefore the plots also provide a ``traverse`` method letting you specify the types of plots you want to access:"
   ]
  },
  {
   "cell_type": "code",
   "execution_count": null,
   "metadata": {},
   "outputs": [],
   "source": [
    "layout_plot.traverse(specs=[hv.plotting.mpl.CurvePlot])"
   ]
  },
  {
   "cell_type": "markdown",
   "metadata": {},
   "source": [
    "# Plotting API\n",
    "\n",
    "There a few methods shared by all plotting classes, which allow the renderer to easily create, update and render a plot. The three most important methods and attributes are:\n",
    "\n",
    "* ``Plot.__init__`` - The constructor already handles a lot of the processing in a plot, it sets up all the subplots if there are any, computes ranges across the object to normalize the display, sets the options that were specified and instantiates the figure, axes, model graphs, or canvas objects dependening on the backend.\n",
    "* ``Plot.initialize_plot`` - This method draws the initial frame to the appopriate figure, axis or canvas, setting up the various artists (matplotlib) or glyphs (bokeh).\n",
    "* ``Plot.update`` - This method updates an already instantiated plot with the data corresponding to the supplied key. This key should match the key in the HoloMap.\n",
    "\n",
    "### Initializing\n",
    "\n",
    "The Renderer and the widgets use these three methods to instantiate and update a plot to render both static frames and animations or widgets as defined by the ``HoloMap`` or ``DynamicMap``. Above we already instantiated a plot, now we initialize it, thereby drawing the first (or rather last frame)."
   ]
  },
  {
   "cell_type": "code",
   "execution_count": null,
   "metadata": {},
   "outputs": [],
   "source": [
    "fig = layout_plot.initialize_plot()\n",
    "fig"
   ]
  },
  {
   "cell_type": "markdown",
   "metadata": {},
   "source": [
    "### Updating\n",
    "\n",
    "We can see ``initialize_plot`` has rendered the last frame with the key ``4``. We can update the figure with another key simply by calling the ``Plot.update`` method with the corresponding key."
   ]
  },
  {
   "cell_type": "code",
   "execution_count": null,
   "metadata": {},
   "outputs": [],
   "source": [
    "layout_plot.update(0)"
   ]
  },
  {
   "cell_type": "code",
   "execution_count": null,
   "metadata": {},
   "outputs": [],
   "source": [
    "plot = hv.plotting.mpl.RasterPlot(holomap)\n",
    "plot"
   ]
  },
  {
   "cell_type": "markdown",
   "metadata": {},
   "source": [
    "Internally each level of the plotting hierarchy updates all the objects below it, all the way down to the ElementPlots, which handle updating the plotting data."
   ]
  },
  {
   "cell_type": "markdown",
   "metadata": {},
   "source": [
    "### Dynamic plot updates"
   ]
  },
  {
   "cell_type": "markdown",
   "metadata": {},
   "source": [
    "Since DynamicMaps may be updated based on stream events they don't work via quite the same API. Each stream automatically captures the plots it is attached to and whenever it receives an event it will update the plot."
   ]
  },
  {
   "cell_type": "code",
   "execution_count": null,
   "metadata": {},
   "outputs": [],
   "source": [
    "dmap = hv.DynamicMap(lambda x: hv.Points(np.arange(x)), kdims=[], streams=[hv.streams.PointerX(x=10)])\n",
    "plot = renderer.get_plot(dmap)\n",
    "plot.initialize_plot()"
   ]
  },
  {
   "cell_type": "markdown",
   "metadata": {},
   "source": [
    "Internally the update to the stream value will automatically trigger the plot to update, here we will disable this by setting ``trigger=False`` and explicitly calling ``refresh`` on the plot:"
   ]
  },
  {
   "cell_type": "code",
   "execution_count": null,
   "metadata": {},
   "outputs": [],
   "source": [
    "dmap.event(x=20,)\n",
    "plot.refresh()\n",
    "plot.state"
   ]
  },
  {
   "cell_type": "markdown",
   "metadata": {},
   "source": [
    "### Plotting handles"
   ]
  },
  {
   "cell_type": "markdown",
   "metadata": {},
   "source": [
    "In addition to accessing the overall state of the plot each plotting class usually keeps direct handles for important plotting elements on the ``handles`` attribute:"
   ]
  },
  {
   "cell_type": "code",
   "execution_count": null,
   "metadata": {},
   "outputs": [],
   "source": [
    "plot.handles"
   ]
  },
  {
   "cell_type": "markdown",
   "metadata": {},
   "source": [
    "Here we can see how the ``PointPlot`` keeps track of the artist, which is a matplotlib ``PathCollection``, the axis, the figure and the plot title. In addition all matplotlib plots also keep track of a list of any additional plotting elements which should be considered in the bounding box calculation."
   ]
  },
  {
   "cell_type": "markdown",
   "metadata": {},
   "source": [
    "This is only the top-level API, which is used by the Renderer to render the plot, animation or widget. Each backend has internal APIs to create and update the various plot components."
   ]
  }
 ],
 "metadata": {
  "kernelspec": {
   "display_name": "Python 3",
   "language": "python",
   "name": "python3"
  },
  "language_info": {
   "codemirror_mode": {
    "name": "ipython",
    "version": 3
   },
   "file_extension": ".py",
   "mimetype": "text/x-python",
   "name": "python",
   "nbconvert_exporter": "python",
   "pygments_lexer": "ipython3",
   "version": "3.6.3"
  },
  "latex_envs": {
   "LaTeX_envs_menu_present": true,
   "autocomplete": true,
   "bibliofile": "biblio.bib",
   "cite_by": "apalike",
   "current_citInitial": 1,
   "eqLabelWithNumbers": true,
   "eqNumInitial": 1,
   "hotkeys": {
    "equation": "Ctrl-E",
    "itemize": "Ctrl-I"
   },
   "labels_anchors": false,
   "latex_user_defs": false,
   "report_style_numbering": false,
   "user_envs_cfg": false
  },
  "varInspector": {
   "cols": {
    "lenName": 16,
    "lenType": 16,
    "lenVar": 40
   },
   "kernels_config": {
    "python": {
     "delete_cmd_postfix": "",
     "delete_cmd_prefix": "del ",
     "library": "var_list.py",
     "varRefreshCmd": "print(var_dic_list())"
    },
    "r": {
     "delete_cmd_postfix": ") ",
     "delete_cmd_prefix": "rm(",
     "library": "var_list.r",
     "varRefreshCmd": "cat(var_dic_list()) "
    }
   },
   "types_to_exclude": [
    "module",
    "function",
    "builtin_function_or_method",
    "instance",
    "_Feature"
   ],
   "window_display": false
  }
 },
 "nbformat": 4,
 "nbformat_minor": 1
}
